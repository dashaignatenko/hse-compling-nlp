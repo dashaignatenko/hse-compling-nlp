{
 "cells": [
  {
   "cell_type": "markdown",
   "id": "092e5c0d",
   "metadata": {},
   "source": [
    "# Домашнее задание  № 5. Матричные разложения/Тематическое моделирование"
   ]
  },
  {
   "cell_type": "code",
   "execution_count": 34,
   "id": "bc5410db",
   "metadata": {},
   "outputs": [],
   "source": [
    "import warnings\n",
    "warnings.filterwarnings(\"ignore\")\n",
    "import gensim\n",
    "import pandas as pd\n",
    "import numpy as np\n",
    "import seaborn as sns\n",
    "from pymorphy2 import MorphAnalyzer\n",
    "#import pyLDAvis.gensim_models\n",
    "from collections import Counter\n",
    "from string import punctuation\n",
    "from razdel import tokenize as razdel_tokenize\n",
    "from sklearn.decomposition import TruncatedSVD, NMF, PCA, LatentDirichletAllocation\n",
    "from sklearn.manifold import TSNE\n",
    "from sklearn.feature_extraction.text import TfidfVectorizer, CountVectorizer, TfidfTransformer\n",
    "from sklearn.metrics.pairwise import cosine_distances\n",
    "from sklearn.ensemble import RandomForestClassifier, ExtraTreesClassifier\n",
    "from sklearn.metrics import accuracy_score, precision_score, recall_score, f1_score, confusion_matrix\n",
    "from sklearn.pipeline import Pipeline\n",
    "from sklearn.model_selection import KFold, StratifiedKFold\n",
    "from matplotlib import pyplot as plt\n",
    "import seaborn as sns\n",
    "morph = MorphAnalyzer()\n",
    "from sklearn.neighbors import KNeighborsClassifier\n",
    "from sklearn.linear_model import SGDClassifier"
   ]
  },
  {
   "cell_type": "markdown",
   "id": "f18446b7",
   "metadata": {},
   "source": [
    "### Задание № 1 (8 баллов)"
   ]
  },
  {
   "cell_type": "markdown",
   "id": "cf81eecc",
   "metadata": {},
   "source": [
    "Попробуйте матричные разложения с 4 классификаторами - SGDClassifier, KNeighborsClassifier,  RandomForest, ExtraTreesClassifier (про него подробнее почитайте в документации, он похож на RF). Используйте и NMF, SVD и LDA. Сравните результаты на кросс-валидации и выберите лучшее сочетание.\n",
    "\n",
    "В итоге у вас должно получиться, как минимум 12 моделей (три разложения на каждый классификатор). Используйте 1 и те же параметры кросс-валидации. Параметры векторизации, параметры K в матричных разложениях, параметры классификаторов могут быть разными между экспериментами."
   ]
  },
  {
   "cell_type": "markdown",
   "id": "f1760960",
   "metadata": {},
   "source": [
    "Можете взять поменьше данных, если все будет обучаться слишком долго (не ставьте параметр K слишком большим в NMF и LDA, иначе точно будет слишком долго)"
   ]
  },
  {
   "cell_type": "code",
   "execution_count": 7,
   "id": "9b84d8bd",
   "metadata": {},
   "outputs": [],
   "source": [
    "data = pd.read_csv('data/avito_category_classification.csv')"
   ]
  },
  {
   "cell_type": "code",
   "execution_count": 8,
   "id": "37e796da",
   "metadata": {},
   "outputs": [
    {
     "data": {
      "text/html": [
       "<div>\n",
       "<style scoped>\n",
       "    .dataframe tbody tr th:only-of-type {\n",
       "        vertical-align: middle;\n",
       "    }\n",
       "\n",
       "    .dataframe tbody tr th {\n",
       "        vertical-align: top;\n",
       "    }\n",
       "\n",
       "    .dataframe thead th {\n",
       "        text-align: right;\n",
       "    }\n",
       "</style>\n",
       "<table border=\"1\" class=\"dataframe\">\n",
       "  <thead>\n",
       "    <tr style=\"text-align: right;\">\n",
       "      <th></th>\n",
       "      <th>category_name</th>\n",
       "      <th>description</th>\n",
       "    </tr>\n",
       "  </thead>\n",
       "  <tbody>\n",
       "    <tr>\n",
       "      <th>0</th>\n",
       "      <td>Автомобили</td>\n",
       "      <td>отличное состояние,обслужиание в салоне</td>\n",
       "    </tr>\n",
       "    <tr>\n",
       "      <th>1</th>\n",
       "      <td>Детская одежда и обувь</td>\n",
       "      <td>В отличном состоянии. Фирма KIKO. Очень теплый...</td>\n",
       "    </tr>\n",
       "    <tr>\n",
       "      <th>2</th>\n",
       "      <td>Предложение услуг</td>\n",
       "      <td>Изготовление ограждений, перил,качелей, турник...</td>\n",
       "    </tr>\n",
       "    <tr>\n",
       "      <th>3</th>\n",
       "      <td>Автомобили</td>\n",
       "      <td>Автомобиль в отличном техническом состоянии. О...</td>\n",
       "    </tr>\n",
       "    <tr>\n",
       "      <th>4</th>\n",
       "      <td>Бытовая техника</td>\n",
       "      <td>Продается газовая плита \"Гефест\" (Белоруссия) ...</td>\n",
       "    </tr>\n",
       "    <tr>\n",
       "      <th>...</th>\n",
       "      <td>...</td>\n",
       "      <td>...</td>\n",
       "    </tr>\n",
       "    <tr>\n",
       "      <th>9893</th>\n",
       "      <td>Товары для детей и игрушки</td>\n",
       "      <td>Чтобы посмотреть весь ассортимент нашего магаз...</td>\n",
       "    </tr>\n",
       "    <tr>\n",
       "      <th>9894</th>\n",
       "      <td>Детская одежда и обувь</td>\n",
       "      <td>Весна,осень.74-80.вопросы можно в вайбер,двухс...</td>\n",
       "    </tr>\n",
       "    <tr>\n",
       "      <th>9895</th>\n",
       "      <td>Одежда, обувь, аксессуары</td>\n",
       "      <td>Кимоно Green Hill. Состояние  отличное,  рост ...</td>\n",
       "    </tr>\n",
       "    <tr>\n",
       "      <th>9896</th>\n",
       "      <td>Детская одежда и обувь</td>\n",
       "      <td>Б/у кроссовки на девочку. Носили только в спор...</td>\n",
       "    </tr>\n",
       "    <tr>\n",
       "      <th>9897</th>\n",
       "      <td>Бытовая техника</td>\n",
       "      <td>Холодильник на гарантии</td>\n",
       "    </tr>\n",
       "  </tbody>\n",
       "</table>\n",
       "<p>9898 rows × 2 columns</p>\n",
       "</div>"
      ],
      "text/plain": [
       "                   category_name  \\\n",
       "0                     Автомобили   \n",
       "1         Детская одежда и обувь   \n",
       "2              Предложение услуг   \n",
       "3                     Автомобили   \n",
       "4                Бытовая техника   \n",
       "...                          ...   \n",
       "9893  Товары для детей и игрушки   \n",
       "9894      Детская одежда и обувь   \n",
       "9895   Одежда, обувь, аксессуары   \n",
       "9896      Детская одежда и обувь   \n",
       "9897             Бытовая техника   \n",
       "\n",
       "                                            description  \n",
       "0               отличное состояние,обслужиание в салоне  \n",
       "1     В отличном состоянии. Фирма KIKO. Очень теплый...  \n",
       "2     Изготовление ограждений, перил,качелей, турник...  \n",
       "3     Автомобиль в отличном техническом состоянии. О...  \n",
       "4     Продается газовая плита \"Гефест\" (Белоруссия) ...  \n",
       "...                                                 ...  \n",
       "9893  Чтобы посмотреть весь ассортимент нашего магаз...  \n",
       "9894  Весна,осень.74-80.вопросы можно в вайбер,двухс...  \n",
       "9895  Кимоно Green Hill. Состояние  отличное,  рост ...  \n",
       "9896  Б/у кроссовки на девочку. Носили только в спор...  \n",
       "9897                            Холодильник на гарантии  \n",
       "\n",
       "[9898 rows x 2 columns]"
      ]
     },
     "execution_count": 8,
     "metadata": {},
     "output_type": "execute_result"
    }
   ],
   "source": [
    "data"
   ]
  },
  {
   "cell_type": "code",
   "execution_count": 9,
   "id": "aac64be2",
   "metadata": {},
   "outputs": [],
   "source": [
    "# добавим лемматизацию\n",
    "def normalize(text):\n",
    "    normalized_text = [word.text.strip(punctuation) for word \\\n",
    "                                                            in razdel_tokenize(text)]\n",
    "    normalized_text = [word.lower() for word in normalized_text if word and len(word) < 20 ]\n",
    "    normalized_text = [morph.parse(word)[0].normal_form for word in normalized_text]\n",
    "    return ' '.join(normalized_text)"
   ]
  },
  {
   "cell_type": "code",
   "execution_count": 10,
   "id": "ef37bd14",
   "metadata": {},
   "outputs": [],
   "source": [
    "data['description_norm'] = data['description'].apply(normalize)"
   ]
  },
  {
   "cell_type": "code",
   "execution_count": 11,
   "id": "40215dce",
   "metadata": {},
   "outputs": [
    {
     "data": {
      "text/plain": [
       "\"pipeline_bow = Pipeline([\\n    ('bow', CountVectorizer(tokenizer=lambda x: x.split(), ngram_range=(1,2), min_df=5, max_df=0.4)),\\n    ('clf', RandomForestClassifier(n_estimators=100, max_depth=10))\\n])\""
      ]
     },
     "execution_count": 11,
     "metadata": {},
     "output_type": "execute_result"
    }
   ],
   "source": [
    "\"\"\"pipeline_bow = Pipeline([\n",
    "    ('bow', CountVectorizer(tokenizer=lambda x: x.split(), ngram_range=(1,2), min_df=5, max_df=0.4)),\n",
    "    ('clf', RandomForestClassifier(n_estimators=100, max_depth=10))\n",
    "])\"\"\""
   ]
  },
  {
   "cell_type": "code",
   "execution_count": 12,
   "id": "283d4eb5",
   "metadata": {},
   "outputs": [],
   "source": [
    "pipeline_svd_rf = Pipeline([\n",
    "    ('bow', CountVectorizer(tokenizer=lambda x: x.split(), ngram_range=(1,2), min_df=5, max_df=0.4)),\n",
    "    ('svd', TruncatedSVD(500)),\n",
    "    ('clf', RandomForestClassifier(n_estimators=100, max_depth=10))\n",
    "])\n",
    "\n",
    "pipeline_svd_knn = Pipeline([\n",
    "    ('bow', CountVectorizer(tokenizer=lambda x: x.split(), ngram_range=(1,2), min_df=5, max_df=0.4)),\n",
    "    ('svd', TruncatedSVD(500)),\n",
    "    ('clf', KNeighborsClassifier(n_neighbors=5))\n",
    "])\n",
    "\n",
    "pipeline_svd_sgd = Pipeline([\n",
    "    ('bow', CountVectorizer(tokenizer=lambda x: x.split(), ngram_range=(1,2), min_df=5, max_df=0.4)),\n",
    "    ('svd', TruncatedSVD(500)),\n",
    "    ('clf', SGDClassifier(max_iter=1000, tol=1e-3))\n",
    "])\n",
    "pipeline_svd_etc = Pipeline([\n",
    "    ('bow', CountVectorizer(tokenizer=lambda x: x.split(), ngram_range=(1,2), min_df=5, max_df=0.4)),\n",
    "    ('svd', TruncatedSVD(500)),\n",
    "    ('clf', ExtraTreesClassifier(n_estimators=100, random_state=0))\n",
    "])"
   ]
  },
  {
   "cell_type": "code",
   "execution_count": 13,
   "id": "0f81d9eb",
   "metadata": {},
   "outputs": [],
   "source": [
    "pipeline_nmf_rf = Pipeline([\n",
    "    ('bow', CountVectorizer(tokenizer=lambda x: x.split(), min_df=3, max_df=0.3)),\n",
    "    ('tfidf', TfidfTransformer()),\n",
    "    ('decomposition', NMF(100)),\n",
    "    ('clf', RandomForestClassifier(n_estimators=200, max_depth=6))\n",
    "])\n",
    "\n",
    "pipeline_nmf_knn = Pipeline([\n",
    "    ('bow', CountVectorizer(tokenizer=lambda x: x.split(), min_df=3, max_df=0.3)),\n",
    "    ('tfidf', TfidfTransformer()),\n",
    "    ('decomposition', NMF(100)),\n",
    "    ('clf', KNeighborsClassifier(n_neighbors=5))\n",
    "])\n",
    "\n",
    "pipeline_nmf_sgd = Pipeline([\n",
    "    ('bow', CountVectorizer(tokenizer=lambda x: x.split(), min_df=3, max_df=0.3)),\n",
    "    ('tfidf', TfidfTransformer()),\n",
    "    ('decomposition', NMF(100)),\n",
    "    ('clf', SGDClassifier(max_iter=1000, tol=1e-3))\n",
    "])\n",
    "\n",
    "pipeline_nmf_etc = Pipeline([\n",
    "    ('bow', CountVectorizer(tokenizer=lambda x: x.split(), min_df=3, max_df=0.3)),\n",
    "    ('tfidf', TfidfTransformer()),\n",
    "    ('decomposition', NMF(100)),\n",
    "    ('clf', ExtraTreesClassifier(n_estimators=100, random_state=0))\n",
    "])"
   ]
  },
  {
   "cell_type": "code",
   "execution_count": 14,
   "id": "472701cb",
   "metadata": {},
   "outputs": [],
   "source": [
    "pipeline_lda_rf = Pipeline([\n",
    "    ('bow', CountVectorizer(tokenizer=lambda x: x.split(), min_df=3, max_df=0.3)),\n",
    "    ('lda', LatentDirichletAllocation(50)),\n",
    "    ('clf', RandomForestClassifier(n_estimators=200, max_depth=6))\n",
    "])\n",
    "\n",
    "pipeline_lda_knn = Pipeline([\n",
    "    ('bow', CountVectorizer(tokenizer=lambda x: x.split(), min_df=3, max_df=0.3)),\n",
    "    ('lda', LatentDirichletAllocation(50)),\n",
    "    ('clf', KNeighborsClassifier(n_neighbors=5))\n",
    "])\n",
    "\n",
    "pipeline_lda_sgd = Pipeline([\n",
    "    ('bow', CountVectorizer(tokenizer=lambda x: x.split(), min_df=3, max_df=0.3)),\n",
    "    ('lda', LatentDirichletAllocation(50)),\n",
    "    ('clf', SGDClassifier(max_iter=1000, tol=1e-3))\n",
    "])\n",
    "\n",
    "pipeline_lda_etc = Pipeline([\n",
    "    ('bow', CountVectorizer(tokenizer=lambda x: x.split(), min_df=3, max_df=0.3)),\n",
    "    ('lda', LatentDirichletAllocation(50)),\n",
    "    ('clf', ExtraTreesClassifier(n_estimators=100, random_state=0))\n",
    "])"
   ]
  },
  {
   "cell_type": "code",
   "execution_count": 15,
   "id": "d8eaf834",
   "metadata": {},
   "outputs": [],
   "source": [
    "def eval_table(X, y, pipeline, N=6):\n",
    "    # зафиксируем порядок классов\n",
    "    labels = list(set(y))\n",
    "    \n",
    "    # метрики отдельных фолдов будет хранить в табличке\n",
    "    fold_metrics = pd.DataFrame(index=labels)\n",
    "    # дополнительно также соберем таблицу ошибок\n",
    "    errors = np.zeros((len(labels), len(labels)))\n",
    "    \n",
    "    # создаем стратегию кросс-валидации\n",
    "    # shuffle=True (перемешивание) - часто критично важно указать\n",
    "    # т.к. данные могут быть упорядочены и модель на этом обучится\n",
    "    kfold = StratifiedKFold(n_splits=N, shuffle=True, )\n",
    "    \n",
    "    for i, (train_index, test_index) in enumerate(kfold.split(X, y)):\n",
    "        # fit-predict как и раньше, но сразу пайплайном\n",
    "        pipeline.fit(X[train_index], y[train_index])\n",
    "        preds = pipeline.predict(X[test_index])\n",
    "        \n",
    "        # записываем метрику и индекс фолда\n",
    "        fold_metrics[f'precision_{i}'] = precision_score(y[test_index], preds, labels=labels, average=None)\n",
    "        fold_metrics[f'recall_{i}'] = recall_score(y[test_index], preds, labels=labels, average=None)\n",
    "        fold_metrics[f'f1_{i}'] = f1_score(y[test_index], preds, labels=labels, average=None)\n",
    "        errors += confusion_matrix(y[test_index], preds, labels=labels, normalize='true')\n",
    "    \n",
    "    # таблица для усредненных значений\n",
    "    # тут мы берем колонки со значениями и усредняем их\n",
    "    # часто также все метрики сразу суммируют и в конце просто делят на количество фолдов\n",
    "    # но мы тут помимо среднего также хотим посмотреть на стандартное отклонение\n",
    "    # чтобы понять как сильно варьируются оценки моделей\n",
    "    result = pd.DataFrame(index=labels)\n",
    "    result['precision'] = fold_metrics[[f'precision_{i}' for i in range(N)]].mean(axis=1).round(2)\n",
    "    result['precision_std'] = fold_metrics[[f'precision_{i}' for i in range(N)]].std(axis=1).round(2)\n",
    "    \n",
    "    result['recall'] = fold_metrics[[f'recall_{i}' for i in range(N)]].mean(axis=1).round(2)\n",
    "    result['recall_std'] = fold_metrics[[f'recall_{i}' for i in range(N)]].std(axis=1).round(2)\n",
    "    \n",
    "    result['f1'] = fold_metrics[[f'f1_{i}' for i in range(N)]].mean(axis=1).round(2)\n",
    "    result['f1_std'] = fold_metrics[[f'f1_{i}' for i in range(N)]].std(axis=1).round(2)\n",
    "    \n",
    "    # добавим одну колонку со средним по всем классам\n",
    "    result.loc['mean'] = result.mean().round(2)\n",
    "    # проценты ошибок просто усредняем\n",
    "    errors /= N\n",
    "    \n",
    "    return result, errors"
   ]
  },
  {
   "cell_type": "code",
   "execution_count": 16,
   "id": "1c6731f3",
   "metadata": {},
   "outputs": [],
   "source": [
    "metrics_svd_rf, errors_svd_rf = eval_table(data['description_norm'], data['category_name'], pipeline_svd_rf)\n",
    "metrics_svd_knn, errors_svd_knn = eval_table(data['description_norm'], data['category_name'], pipeline_svd_knn)\n",
    "metrics_svd_sgd, errors_svd_sgd = eval_table(data['description_norm'], data['category_name'], pipeline_svd_sgd)\n",
    "metrics_svd_etc, errors_svd_etc = eval_table(data['description_norm'], data['category_name'], pipeline_svd_etc)"
   ]
  },
  {
   "cell_type": "code",
   "execution_count": 18,
   "id": "2939a5c8",
   "metadata": {},
   "outputs": [],
   "source": [
    "metrics_lda_rf, errors_lda_rf = eval_table(data['description_norm'], data['category_name'], pipeline_lda_rf)\n",
    "metrics_lda_knn, errors_lda_knn = eval_table(data['description_norm'], data['category_name'], pipeline_lda_knn)\n",
    "metrics_lda_sgd, errors_lda_sgd = eval_table(data['description_norm'], data['category_name'], pipeline_lda_sgd)\n",
    "metrics_lda_etc, errors_lda_etc = eval_table(data['description_norm'], data['category_name'], pipeline_lda_etc)"
   ]
  },
  {
   "cell_type": "code",
   "execution_count": 19,
   "id": "fcb3fa75",
   "metadata": {},
   "outputs": [],
   "source": [
    "metrics_nmf_rf, errors_nmf_rf = eval_table(data['description_norm'], data['category_name'], pipeline_nmf_rf)\n",
    "metrics_nmf_knn, errors_nmf_knn = eval_table(data['description_norm'], data['category_name'], pipeline_nmf_knn)\n",
    "metrics_nmf_sgd, errors_nmf_sgd = eval_table(data['description_norm'], data['category_name'], pipeline_nmf_sgd)\n",
    "metrics_nmf_etc, errors_nmf_etc = eval_table(data['description_norm'], data['category_name'], pipeline_nmf_etc)"
   ]
  },
  {
   "cell_type": "code",
   "execution_count": 26,
   "id": "52ffb991",
   "metadata": {},
   "outputs": [
    {
     "data": {
      "text/html": [
       "<div>\n",
       "<style scoped>\n",
       "    .dataframe tbody tr th:only-of-type {\n",
       "        vertical-align: middle;\n",
       "    }\n",
       "\n",
       "    .dataframe tbody tr th {\n",
       "        vertical-align: top;\n",
       "    }\n",
       "\n",
       "    .dataframe thead th {\n",
       "        text-align: right;\n",
       "    }\n",
       "</style>\n",
       "<table border=\"1\" class=\"dataframe\">\n",
       "  <thead>\n",
       "    <tr style=\"text-align: right;\">\n",
       "      <th></th>\n",
       "      <th>precision</th>\n",
       "      <th>precision_std</th>\n",
       "      <th>recall</th>\n",
       "      <th>recall_std</th>\n",
       "      <th>f1</th>\n",
       "      <th>f1_std</th>\n",
       "    </tr>\n",
       "  </thead>\n",
       "  <tbody>\n",
       "    <tr>\n",
       "      <th>Товары для детей и игрушки</th>\n",
       "      <td>-0.15</td>\n",
       "      <td>0.01</td>\n",
       "      <td>0.00</td>\n",
       "      <td>0.05</td>\n",
       "      <td>-0.03</td>\n",
       "      <td>0.06</td>\n",
       "    </tr>\n",
       "    <tr>\n",
       "      <th>Бытовая техника</th>\n",
       "      <td>-0.67</td>\n",
       "      <td>-0.52</td>\n",
       "      <td>-0.02</td>\n",
       "      <td>-0.02</td>\n",
       "      <td>-0.04</td>\n",
       "      <td>-0.04</td>\n",
       "    </tr>\n",
       "    <tr>\n",
       "      <th>Предложение услуг</th>\n",
       "      <td>-0.09</td>\n",
       "      <td>0.04</td>\n",
       "      <td>-0.11</td>\n",
       "      <td>0.01</td>\n",
       "      <td>-0.11</td>\n",
       "      <td>0.01</td>\n",
       "    </tr>\n",
       "    <tr>\n",
       "      <th>Телефоны</th>\n",
       "      <td>-0.20</td>\n",
       "      <td>0.04</td>\n",
       "      <td>0.27</td>\n",
       "      <td>0.06</td>\n",
       "      <td>0.17</td>\n",
       "      <td>0.01</td>\n",
       "    </tr>\n",
       "    <tr>\n",
       "      <th>Детская одежда и обувь</th>\n",
       "      <td>-0.08</td>\n",
       "      <td>0.13</td>\n",
       "      <td>-0.04</td>\n",
       "      <td>0.07</td>\n",
       "      <td>-0.08</td>\n",
       "      <td>0.04</td>\n",
       "    </tr>\n",
       "    <tr>\n",
       "      <th>Мебель и интерьер</th>\n",
       "      <td>-0.28</td>\n",
       "      <td>0.46</td>\n",
       "      <td>-0.14</td>\n",
       "      <td>-0.07</td>\n",
       "      <td>-0.23</td>\n",
       "      <td>-0.09</td>\n",
       "    </tr>\n",
       "    <tr>\n",
       "      <th>Ремонт и строительство</th>\n",
       "      <td>-0.16</td>\n",
       "      <td>-0.07</td>\n",
       "      <td>0.01</td>\n",
       "      <td>0.01</td>\n",
       "      <td>0.02</td>\n",
       "      <td>0.03</td>\n",
       "    </tr>\n",
       "    <tr>\n",
       "      <th>Автомобили</th>\n",
       "      <td>-0.09</td>\n",
       "      <td>0.02</td>\n",
       "      <td>-0.10</td>\n",
       "      <td>0.07</td>\n",
       "      <td>-0.10</td>\n",
       "      <td>0.06</td>\n",
       "    </tr>\n",
       "    <tr>\n",
       "      <th>Одежда, обувь, аксессуары</th>\n",
       "      <td>0.02</td>\n",
       "      <td>0.06</td>\n",
       "      <td>-0.10</td>\n",
       "      <td>0.11</td>\n",
       "      <td>-0.03</td>\n",
       "      <td>0.01</td>\n",
       "    </tr>\n",
       "    <tr>\n",
       "      <th>Квартиры</th>\n",
       "      <td>-0.05</td>\n",
       "      <td>-0.01</td>\n",
       "      <td>-0.05</td>\n",
       "      <td>-0.01</td>\n",
       "      <td>-0.05</td>\n",
       "      <td>-0.01</td>\n",
       "    </tr>\n",
       "    <tr>\n",
       "      <th>mean</th>\n",
       "      <td>-0.18</td>\n",
       "      <td>0.02</td>\n",
       "      <td>-0.03</td>\n",
       "      <td>0.03</td>\n",
       "      <td>-0.05</td>\n",
       "      <td>0.01</td>\n",
       "    </tr>\n",
       "  </tbody>\n",
       "</table>\n",
       "</div>"
      ],
      "text/plain": [
       "                            precision  precision_std  recall  recall_std  \\\n",
       "Товары для детей и игрушки      -0.15           0.01    0.00        0.05   \n",
       "Бытовая техника                 -0.67          -0.52   -0.02       -0.02   \n",
       "Предложение услуг               -0.09           0.04   -0.11        0.01   \n",
       "Телефоны                        -0.20           0.04    0.27        0.06   \n",
       "Детская одежда и обувь          -0.08           0.13   -0.04        0.07   \n",
       "Мебель и интерьер               -0.28           0.46   -0.14       -0.07   \n",
       "Ремонт и строительство          -0.16          -0.07    0.01        0.01   \n",
       "Автомобили                      -0.09           0.02   -0.10        0.07   \n",
       "Одежда, обувь, аксессуары        0.02           0.06   -0.10        0.11   \n",
       "Квартиры                        -0.05          -0.01   -0.05       -0.01   \n",
       "mean                            -0.18           0.02   -0.03        0.03   \n",
       "\n",
       "                              f1  f1_std  \n",
       "Товары для детей и игрушки -0.03    0.06  \n",
       "Бытовая техника            -0.04   -0.04  \n",
       "Предложение услуг          -0.11    0.01  \n",
       "Телефоны                    0.17    0.01  \n",
       "Детская одежда и обувь     -0.08    0.04  \n",
       "Мебель и интерьер          -0.23   -0.09  \n",
       "Ремонт и строительство      0.02    0.03  \n",
       "Автомобили                 -0.10    0.06  \n",
       "Одежда, обувь, аксессуары  -0.03    0.01  \n",
       "Квартиры                   -0.05   -0.01  \n",
       "mean                       -0.05    0.01  "
      ]
     },
     "execution_count": 26,
     "metadata": {},
     "output_type": "execute_result"
    }
   ],
   "source": [
    "metrics_lda_rf-metrics_nmf_rf"
   ]
  },
  {
   "cell_type": "code",
   "execution_count": 22,
   "id": "033da72f",
   "metadata": {},
   "outputs": [
    {
     "data": {
      "text/html": [
       "<div>\n",
       "<style scoped>\n",
       "    .dataframe tbody tr th:only-of-type {\n",
       "        vertical-align: middle;\n",
       "    }\n",
       "\n",
       "    .dataframe tbody tr th {\n",
       "        vertical-align: top;\n",
       "    }\n",
       "\n",
       "    .dataframe thead th {\n",
       "        text-align: right;\n",
       "    }\n",
       "</style>\n",
       "<table border=\"1\" class=\"dataframe\">\n",
       "  <thead>\n",
       "    <tr style=\"text-align: right;\">\n",
       "      <th></th>\n",
       "      <th>precision</th>\n",
       "      <th>precision_std</th>\n",
       "      <th>recall</th>\n",
       "      <th>recall_std</th>\n",
       "      <th>f1</th>\n",
       "      <th>f1_std</th>\n",
       "    </tr>\n",
       "  </thead>\n",
       "  <tbody>\n",
       "    <tr>\n",
       "      <th>Товары для детей и игрушки</th>\n",
       "      <td>0.06</td>\n",
       "      <td>0.02</td>\n",
       "      <td>-0.48</td>\n",
       "      <td>-0.02</td>\n",
       "      <td>-0.41</td>\n",
       "      <td>0.02</td>\n",
       "    </tr>\n",
       "    <tr>\n",
       "      <th>Бытовая техника</th>\n",
       "      <td>0.26</td>\n",
       "      <td>0.01</td>\n",
       "      <td>-0.46</td>\n",
       "      <td>-0.03</td>\n",
       "      <td>-0.47</td>\n",
       "      <td>0.00</td>\n",
       "    </tr>\n",
       "    <tr>\n",
       "      <th>Предложение услуг</th>\n",
       "      <td>0.02</td>\n",
       "      <td>0.03</td>\n",
       "      <td>-0.30</td>\n",
       "      <td>0.03</td>\n",
       "      <td>-0.19</td>\n",
       "      <td>0.02</td>\n",
       "    </tr>\n",
       "    <tr>\n",
       "      <th>Телефоны</th>\n",
       "      <td>0.11</td>\n",
       "      <td>0.01</td>\n",
       "      <td>-0.45</td>\n",
       "      <td>-0.03</td>\n",
       "      <td>-0.30</td>\n",
       "      <td>0.02</td>\n",
       "    </tr>\n",
       "    <tr>\n",
       "      <th>Детская одежда и обувь</th>\n",
       "      <td>-0.29</td>\n",
       "      <td>0.00</td>\n",
       "      <td>-0.10</td>\n",
       "      <td>-0.01</td>\n",
       "      <td>-0.22</td>\n",
       "      <td>0.01</td>\n",
       "    </tr>\n",
       "    <tr>\n",
       "      <th>Мебель и интерьер</th>\n",
       "      <td>0.08</td>\n",
       "      <td>0.16</td>\n",
       "      <td>-0.60</td>\n",
       "      <td>-0.05</td>\n",
       "      <td>-0.60</td>\n",
       "      <td>-0.02</td>\n",
       "    </tr>\n",
       "    <tr>\n",
       "      <th>Ремонт и строительство</th>\n",
       "      <td>0.07</td>\n",
       "      <td>0.14</td>\n",
       "      <td>-0.41</td>\n",
       "      <td>-0.07</td>\n",
       "      <td>-0.40</td>\n",
       "      <td>0.01</td>\n",
       "    </tr>\n",
       "    <tr>\n",
       "      <th>Автомобили</th>\n",
       "      <td>-0.01</td>\n",
       "      <td>0.02</td>\n",
       "      <td>-0.32</td>\n",
       "      <td>0.00</td>\n",
       "      <td>-0.20</td>\n",
       "      <td>0.01</td>\n",
       "    </tr>\n",
       "    <tr>\n",
       "      <th>Одежда, обувь, аксессуары</th>\n",
       "      <td>-0.26</td>\n",
       "      <td>-0.03</td>\n",
       "      <td>-0.02</td>\n",
       "      <td>0.01</td>\n",
       "      <td>-0.18</td>\n",
       "      <td>0.00</td>\n",
       "    </tr>\n",
       "    <tr>\n",
       "      <th>Квартиры</th>\n",
       "      <td>-0.09</td>\n",
       "      <td>0.01</td>\n",
       "      <td>-0.07</td>\n",
       "      <td>0.00</td>\n",
       "      <td>-0.08</td>\n",
       "      <td>0.01</td>\n",
       "    </tr>\n",
       "    <tr>\n",
       "      <th>mean</th>\n",
       "      <td>0.00</td>\n",
       "      <td>0.04</td>\n",
       "      <td>-0.32</td>\n",
       "      <td>-0.02</td>\n",
       "      <td>-0.30</td>\n",
       "      <td>0.01</td>\n",
       "    </tr>\n",
       "  </tbody>\n",
       "</table>\n",
       "</div>"
      ],
      "text/plain": [
       "                            precision  precision_std  recall  recall_std  \\\n",
       "Товары для детей и игрушки       0.06           0.02   -0.48       -0.02   \n",
       "Бытовая техника                  0.26           0.01   -0.46       -0.03   \n",
       "Предложение услуг                0.02           0.03   -0.30        0.03   \n",
       "Телефоны                         0.11           0.01   -0.45       -0.03   \n",
       "Детская одежда и обувь          -0.29           0.00   -0.10       -0.01   \n",
       "Мебель и интерьер                0.08           0.16   -0.60       -0.05   \n",
       "Ремонт и строительство           0.07           0.14   -0.41       -0.07   \n",
       "Автомобили                      -0.01           0.02   -0.32        0.00   \n",
       "Одежда, обувь, аксессуары       -0.26          -0.03   -0.02        0.01   \n",
       "Квартиры                        -0.09           0.01   -0.07        0.00   \n",
       "mean                             0.00           0.04   -0.32       -0.02   \n",
       "\n",
       "                              f1  f1_std  \n",
       "Товары для детей и игрушки -0.41    0.02  \n",
       "Бытовая техника            -0.47    0.00  \n",
       "Предложение услуг          -0.19    0.02  \n",
       "Телефоны                   -0.30    0.02  \n",
       "Детская одежда и обувь     -0.22    0.01  \n",
       "Мебель и интерьер          -0.60   -0.02  \n",
       "Ремонт и строительство     -0.40    0.01  \n",
       "Автомобили                 -0.20    0.01  \n",
       "Одежда, обувь, аксессуары  -0.18    0.00  \n",
       "Квартиры                   -0.08    0.01  \n",
       "mean                       -0.30    0.01  "
      ]
     },
     "execution_count": 22,
     "metadata": {},
     "output_type": "execute_result"
    }
   ],
   "source": [
    "#metrics_svd_rf - metrics_svd_knn\n",
    "#metrics_svd_rf - metrics_svd_etc\n",
    "metrics_svd_rf - metrics_svd_sgd"
   ]
  },
  {
   "cell_type": "code",
   "execution_count": 49,
   "id": "b1bc1e20",
   "metadata": {},
   "outputs": [
    {
     "data": {
      "text/plain": [
       "Index(['precision', 'precision_std', 'recall', 'recall_std', 'f1', 'f1_std'], dtype='object')"
      ]
     },
     "execution_count": 49,
     "metadata": {},
     "output_type": "execute_result"
    }
   ],
   "source": [
    "metrics_lda_rf.loc['mean'].keys()"
   ]
  },
  {
   "cell_type": "code",
   "execution_count": 54,
   "id": "e031cf53",
   "metadata": {
    "scrolled": true
   },
   "outputs": [
    {
     "data": {
      "image/png": "[encoded data removed]",
      "text/plain": [
       "<Figure size 640x480 with 1 Axes>"
      ]
     },
     "metadata": {},
     "output_type": "display_data"
    }
   ],
   "source": [
    "#plt.figure(figsize=(10,8))\n",
    "g = sns.barplot(x=metrics_lda_rf.loc['mean'].keys(), y=metrics_lda_rf.loc['mean'].values,\n",
    "            data=metrics_lda_rf.loc['mean'], orient='v')\n",
    "ax = plt.subplot()\n",
    "ax = ax.set_xticklabels(metrics_lda_rf.loc['mean'].keys())"
   ]
  },
  {
   "cell_type": "code",
   "execution_count": 63,
   "id": "1a63c56d",
   "metadata": {},
   "outputs": [
    {
     "data": {
      "image/png": "[encoded data removed]",
      "text/plain": [
       "<Figure size 640x480 with 12 Axes>"
      ]
     },
     "metadata": {},
     "output_type": "display_data"
    }
   ],
   "source": [
    "fig, axes = plt.subplots(3, 4)\n",
    "#axes.set_xticks()\n",
    "#ax.set_xticklables(['rf','knn', 'sgd', 'etc'])\n",
    "\n",
    "ax = sns.barplot(x=metrics_lda_rf.loc['mean'].keys(), y=metrics_lda_rf.loc['mean'].values,\n",
    "            data=metrics_lda_rf.loc['mean'], orient='v', ax=axes[0, 0])\n",
    "#ax = ax.set_xticklabels(metrics_lda_rf.loc['mean'].keys())\n",
    "\n",
    "ax = sns.barplot(x=metrics_lda_knn.loc['mean'].keys(), y=metrics_lda_knn.loc['mean'].values,\n",
    "            data=metrics_lda_knn.loc['mean'], orient='v', ax=axes[0, 1])\n",
    "#ax = ax.set_xticklabels(metrics_lda_knn.loc['mean'].keys())\n",
    "\n",
    "ax = sns.barplot(x=metrics_lda_sgd.loc['mean'].keys(), y=metrics_lda_sgd.loc['mean'].values,\n",
    "            data=metrics_lda_sgd.loc['mean'], orient='v', ax=axes[0, 2])\n",
    "#ax = ax.set_xticklabels(metrics_lda_sgd.loc['mean'].keys())\n",
    "\n",
    "ax = sns.barplot(x=metrics_lda_etc.loc['mean'].keys(), y=metrics_lda_etc.loc['mean'].values,\n",
    "            data=metrics_lda_etc.loc['mean'], orient='v', ax=axes[0, 3])\n",
    "#ax = ax.set_xticklabels(metrics_lda_etc.loc['mean'].keys())\n",
    "\n",
    "\n",
    "\n",
    "ax = sns.barplot(x=metrics_svd_rf.loc['mean'].keys(), y=metrics_svd_rf.loc['mean'].values,\n",
    "            data=metrics_svd_rf.loc['mean'], orient='v', ax=axes[1, 0])\n",
    "#ax = ax.set_xticklabels(metrics_svd_rf.loc['mean'].keys())\n",
    "\n",
    "ax = sns.barplot(x=metrics_svd_knn.loc['mean'].keys(), y=metrics_svd_knn.loc['mean'].values,\n",
    "            data=metrics_svd_knn.loc['mean'], orient='v', ax=axes[1, 1])\n",
    "#ax = ax.set_xticklabels(metrics_svd_knn.loc['mean'].keys())\n",
    "\n",
    "ax = sns.barplot(x=metrics_svd_sgd.loc['mean'].keys(), y=metrics_svd_sgd.loc['mean'].values,\n",
    "            data=metrics_svd_sgd.loc['mean'], orient='v', ax=axes[1, 2])\n",
    "#ax = ax.set_xticklabels(metrics_svd_sgd.loc['mean'].keys())\n",
    "\n",
    "ax = sns.barplot(x=metrics_svd_etc.loc['mean'].keys(), y=metrics_svd_etc.loc['mean'].values,\n",
    "            data=metrics_svd_etc.loc['mean'], orient='v', ax=axes[1, 3])\n",
    "#ax = ax.set_xticklabels(metrics_svd_etc.loc['mean'].keys())\n",
    "\n",
    "\n",
    "\n",
    "ax = sns.barplot(x=metrics_nmf_rf.loc['mean'].keys(), y=metrics_nmf_rf.loc['mean'].values,\n",
    "            data=metrics_nmf_rf.loc['mean'], orient='v', ax=axes[2, 0])\n",
    "#ax = ax.set_xticklabels(metrics_nmf_rf.loc['mean'].keys())\n",
    "\n",
    "ax = sns.barplot(x=metrics_nmf_knn.loc['mean'].keys(), y=metrics_nmf_knn.loc['mean'].values,\n",
    "            data=metrics_nmf_knn.loc['mean'], orient='v', ax=axes[2, 1])\n",
    "#ax = ax.set_xticklabels(metrics_nmf_knn.loc['mean'].keys())\n",
    "\n",
    "ax = sns.barplot(x=metrics_nmf_sgd.loc['mean'].keys(), y=metrics_nmf_sgd.loc['mean'].values,\n",
    "            data=metrics_nmf_sgd.loc['mean'], orient='v', ax=axes[2, 2])\n",
    "#ax = ax.set_xticklabels(metrics_nmf_sgd.loc['mean'].keys())\n",
    "\n",
    "ax = sns.barplot(x=metrics_nmf_etc.loc['mean'].keys(), y=metrics_nmf_etc.loc['mean'].values,\n",
    "            data=metrics_nmf_etc.loc['mean'], orient='v', ax=axes[2, 3])\n",
    "#ax = ax.set_xticklabels(metrics_nmf_etc.loc['mean'].keys())\n"
   ]
  },
  {
   "cell_type": "markdown",
   "id": "8436142a",
   "metadata": {},
   "source": [
    "### Задание № 2 (2 балла)"
   ]
  },
  {
   "cell_type": "markdown",
   "id": "6cb61f26",
   "metadata": {},
   "source": [
    "С помощью gensim постройте 5 тематических моделей с разными параметрами. Как минимум попробуйте: разное количество тем, alpha и eta параметры (в альфа попробуйте \"asymmetric\" и \"auto\" помимо 'symmetric' по дефолту, в eta просто попробуйте разные значения), а также разные параметры фильтрации словаря. \n",
    "\n",
    "Оцените каждую из моделей с помощью метрик (перплексии и когерентности), а также визуально, просмотрев получаемые темы. Найдите самую хорошую тему для каждой из моделей."
   ]
  },
  {
   "cell_type": "code",
   "execution_count": 64,
   "id": "69bcd282",
   "metadata": {},
   "outputs": [],
   "source": [
    "texts = open('data/wiki_data.txt').read().splitlines()[:5000]\n",
    "texts = ([normalize(text) for text in texts])"
   ]
  },
  {
   "cell_type": "code",
   "execution_count": 65,
   "id": "97cfe39e",
   "metadata": {},
   "outputs": [],
   "source": [
    "vectorizer = TfidfVectorizer(max_features=2000, min_df=10, max_df=0.4)\n",
    "X = vectorizer.fit_transform(texts)"
   ]
  },
  {
   "cell_type": "code",
   "execution_count": 66,
   "id": "75e7af07",
   "metadata": {},
   "outputs": [],
   "source": [
    "dictinary = gensim.corpora.Dictionary((text.split() for text in texts))"
   ]
  },
  {
   "cell_type": "code",
   "execution_count": 67,
   "id": "551fdca1",
   "metadata": {},
   "outputs": [],
   "source": [
    "dictinary.filter_extremes(no_above=0.1, no_below=10)\n",
    "dictinary.compactify()"
   ]
  },
  {
   "cell_type": "code",
   "execution_count": 68,
   "id": "1b6d729a",
   "metadata": {},
   "outputs": [],
   "source": [
    "corpus = [dictinary.doc2bow(text.split()) for text in texts]"
   ]
  },
  {
   "cell_type": "code",
   "execution_count": 83,
   "id": "b7574b35",
   "metadata": {},
   "outputs": [],
   "source": [
    "lda = gensim.models.LdaModel(corpus, 200, alpha='symmetric', id2word=dictinary, passes=5)"
   ]
  },
  {
   "cell_type": "code",
   "execution_count": 84,
   "id": "6e7f0e3f",
   "metadata": {},
   "outputs": [
    {
     "data": {
      "text/plain": [
       "[(171,\n",
       "  '0.221*\"список\" + 0.132*\"значение\" + 0.069*\"таблица\" + 0.050*\"запись\" + 0.042*\"100\" + 0.034*\"пример\" + 0.028*\"севастополь\" + 0.025*\"условие\" + 0.022*\"раздел\" + 0.022*\"колонка\"'),\n",
       " (93,\n",
       "  '0.051*\"северный\" + 0.050*\"монголия\" + 0.037*\"встречаться\" + 0.030*\"европа\" + 0.028*\"семейство\" + 0.026*\"распространить\" + 0.022*\"личинка\" + 0.019*\"америка\" + 0.019*\"яйцо\" + 0.018*\"растение\"'),\n",
       " (166,\n",
       "  '0.106*\"полигон\" + 0.082*\"испытание\" + 0.071*\"б\" + 0.059*\"ядерный\" + 0.044*\"арсенал\" + 0.031*\"далее\" + 0.029*\"бомба\" + 0.028*\"создание\" + 0.028*\"взрыв\" + 0.020*\"руководство\"'),\n",
       " (49,\n",
       "  '0.181*\"убийство\" + 0.082*\"убитый\" + 0.073*\"убийца\" + 0.072*\"торговый\" + 0.072*\"фамилия\" + 0.046*\"торговля\" + 0.037*\"носитель\" + 0.028*\"статуя\" + 0.022*\"совершить\" + 0.022*\"преступный\"'),\n",
       " (85,\n",
       "  '0.019*\"чтобы\" + 0.010*\"порода\" + 0.009*\"остаться\" + 0.009*\"помощь\" + 0.008*\"собака\" + 0.008*\"должный\" + 0.007*\"вскоре\" + 0.007*\"друг\" + 0.006*\"найти\" + 0.006*\"убить\"'),\n",
       " (89,\n",
       "  '0.179*\"завод\" + 0.064*\"производство\" + 0.036*\"географический\" + 0.028*\"стекло\" + 0.025*\"хранение\" + 0.021*\"металл\" + 0.020*\"манчестер\" + 0.020*\"оптический\" + 0.018*\"свойство\" + 0.016*\"секция\"'),\n",
       " (163,\n",
       "  '0.209*\"турнир\" + 0.073*\"открытый\" + 0.061*\"пара\" + 0.053*\"одиночный\" + 0.044*\"финал\" + 0.033*\"полуфинал\" + 0.030*\"четвертьфинал\" + 0.029*\"ракетка\" + 0.024*\"сша\" + 0.024*\"франция\"'),\n",
       " (8,\n",
       "  '0.046*\"греческий\" + 0.045*\"r\" + 0.027*\"шрифт\" + 0.020*\"карта\" + 0.019*\"фигура\" + 0.017*\"стиль\" + 0.017*\"ворот\" + 0.016*\"слабый\" + 0.013*\"ворота\" + 0.013*\"лить\"'),\n",
       " (71,\n",
       "  '0.084*\"посольство\" + 0.048*\"дипломатический\" + 0.028*\"лейпциг\" + 0.027*\"екатеринбург\" + 0.025*\"удача\" + 0.024*\"россия\" + 0.023*\"украшение\" + 0.022*\"археолог\" + 0.021*\"уличный\" + 0.020*\"обязательно\"'),\n",
       " (20,\n",
       "  '0.126*\"феликс\" + 0.071*\"антарктида\" + 0.059*\"контакт\" + 0.056*\"поддерживать\" + 0.044*\"множество\" + 0.037*\"телефон\" + 0.037*\"оснастить\" + 0.036*\"азия\" + 0.032*\"улучшать\" + 0.031*\"дополнение\"'),\n",
       " (113,\n",
       "  '0.045*\"растение\" + 0.031*\"вода\" + 0.027*\"длина\" + 0.023*\"крупный\" + 0.017*\"около\" + 0.015*\"очень\" + 0.014*\"семейство\" + 0.013*\"пролив\" + 0.011*\"небольшой\" + 0.011*\"иногда\"'),\n",
       " (6,\n",
       "  '0.036*\"брак\" + 0.023*\"ребёнок\" + 0.018*\"я\" + 0.016*\"мы\" + 0.016*\"женщина\" + 0.015*\"жизнь\" + 0.014*\"поведение\" + 0.014*\"понятие\" + 0.013*\"состояние\" + 0.013*\"семейный\"'),\n",
       " (170,\n",
       "  '0.101*\"сср\" + 0.040*\"ташкент\" + 0.040*\"пермский\" + 0.032*\"хабаровский\" + 0.029*\"узбекистан\" + 0.029*\"совет\" + 0.028*\"верховный\" + 0.026*\"советский\" + 0.025*\"киргизский\" + 0.023*\"председатель\"'),\n",
       " (109,\n",
       "  '0.159*\"остров\" + 0.018*\"километр\" + 0.015*\"южный\" + 0.015*\"северный\" + 0.012*\"западный\" + 0.012*\"архипелаг\" + 0.011*\"земля\" + 0.011*\"относиться\" + 0.010*\"омский\" + 0.010*\"море\"'),\n",
       " (64,\n",
       "  '0.049*\"св\" + 0.046*\"произвести\" + 0.037*\"назначить\" + 0.030*\"степень\" + 0.028*\"чин\" + 0.020*\"отличие\" + 0.019*\"орден\" + 0.018*\"дело\" + 0.017*\"наградить\" + 0.015*\"служба\"'),\n",
       " (82,\n",
       "  '0.080*\"латвийский\" + 0.065*\"латвия\" + 0.052*\"рига\" + 0.037*\"полиция\" + 0.034*\"мвд\" + 0.031*\"энергия\" + 0.027*\"расследование\" + 0.025*\"охлаждение\" + 0.024*\"казнь\" + 0.023*\"столкновение\"'),\n",
       " (11,\n",
       "  '0.056*\"михаил\" + 0.050*\"ярославский\" + 0.045*\"альберт\" + 0.029*\"цикл\" + 0.025*\"ярославль\" + 0.025*\"xiii\" + 0.023*\"образ\" + 0.022*\"чемпионка\" + 0.021*\"гимнастика\" + 0.020*\"круг\"'),\n",
       " (172,\n",
       "  '0.087*\"аргентина\" + 0.045*\"водяной\" + 0.040*\"буэнос-айрес\" + 0.034*\"аргентинский\" + 0.029*\"трактат\" + 0.023*\"мид\" + 0.023*\"луис\" + 0.022*\"дипломатический\" + 0.022*\"примирение\" + 0.020*\"обратный\"'),\n",
       " (159,\n",
       "  '0.047*\"ричард\" + 0.046*\"клуб\" + 0.038*\"коми\" + 0.034*\"ирландия\" + 0.022*\"футбольный\" + 0.022*\"албания\" + 0.020*\"ирландский\" + 0.019*\"тон\" + 0.019*\"категория\" + 0.017*\"недавно\"'),\n",
       " (117,\n",
       "  '0.097*\"азербайджанский\" + 0.077*\"лука\" + 0.065*\"балет\" + 0.061*\"азербайджан\" + 0.047*\"ян\" + 0.045*\"виктор\" + 0.028*\"пан\" + 0.020*\"либретто\" + 0.018*\"стрелка\" + 0.015*\"танец\"')]"
      ]
     },
     "execution_count": 84,
     "metadata": {},
     "output_type": "execute_result"
    }
   ],
   "source": [
    "lda.print_topics()"
   ]
  },
  {
   "cell_type": "code",
   "execution_count": 85,
   "id": "db10eaf1",
   "metadata": {},
   "outputs": [
    {
     "data": {
      "text/plain": [
       "1180.3821646872186"
      ]
     },
     "execution_count": 85,
     "metadata": {},
     "output_type": "execute_result"
    }
   ],
   "source": [
    "np.exp2(-lda.log_perplexity(corpus[:1000]))"
   ]
  },
  {
   "cell_type": "code",
   "execution_count": 86,
   "id": "0753f5d4",
   "metadata": {},
   "outputs": [],
   "source": [
    "topics = []\n",
    "for topic_id, topic in lda.show_topics(num_topics=100, formatted=False):\n",
    "    topic = [word for word, _ in topic]\n",
    "    topics.append(topic)"
   ]
  },
  {
   "cell_type": "code",
   "execution_count": 87,
   "id": "70cb666f",
   "metadata": {},
   "outputs": [],
   "source": [
    "coherence_model_lda = gensim.models.CoherenceModel(topics=topics, \n",
    "                                                   texts=[text.split() for text in texts], \n",
    "                                                   dictionary=dictinary, coherence='c_v')"
   ]
  },
  {
   "cell_type": "code",
   "execution_count": 88,
   "id": "61e0ed43",
   "metadata": {},
   "outputs": [
    {
     "data": {
      "text/plain": [
       "0.49558064814057984"
      ]
     },
     "execution_count": 88,
     "metadata": {},
     "output_type": "execute_result"
    }
   ],
   "source": [
    "coherence_model_lda.get_coherence()"
   ]
  },
  {
   "cell_type": "code",
   "execution_count": null,
   "id": "8560d244",
   "metadata": {},
   "outputs": [],
   "source": []
  },
  {
   "cell_type": "code",
   "execution_count": 77,
   "id": "802af1a6",
   "metadata": {},
   "outputs": [
    {
     "data": {
      "text/plain": [
       "[(199,\n",
       "  '0.054*\"воздух\" + 0.036*\"система\" + 0.027*\"сигнал\" + 0.023*\"камера\" + 0.020*\"сибирский\" + 0.020*\"антенна\" + 0.019*\"поток\" + 0.018*\"патрик\" + 0.017*\"ветеринарный\" + 0.017*\"промежуточный\"'),\n",
       " (197,\n",
       "  '0.039*\"премьер-министр\" + 0.038*\"магнитный\" + 0.031*\"переходный\" + 0.026*\"энергия\" + 0.025*\"ток\" + 0.024*\"вероятность\" + 0.021*\"независимость\" + 0.016*\"форт\" + 0.016*\"электрический\" + 0.016*\"переход\"'),\n",
       " (198,\n",
       "  '0.068*\"красный\" + 0.051*\"чёрный\" + 0.045*\"цвета\" + 0.042*\"белый\" + 0.038*\"крыло\" + 0.036*\"сторона\" + 0.035*\"цвет\" + 0.029*\"нижний\" + 0.028*\"глаз\" + 0.027*\"пятно\"'),\n",
       " (192,\n",
       "  '0.138*\"польша\" + 0.099*\"германия\" + 0.085*\"польский\" + 0.049*\"печать\" + 0.038*\"колония\" + 0.030*\"коми\" + 0.029*\"австрия\" + 0.026*\"франция\" + 0.024*\"водяной\" + 0.024*\"немецкий\"'),\n",
       " (190,\n",
       "  '0.362*\"посёлок\" + 0.052*\"житель\" + 0.046*\"поселковый\" + 0.038*\"километр\" + 0.033*\"городской\" + 0.025*\"пгт\" + 0.018*\"грунтовый\" + 0.015*\"хозяйство\" + 0.015*\"статус\" + 0.015*\"вознесенский\"'),\n",
       " (195,\n",
       "  '0.049*\"просвещение\" + 0.019*\"гай\" + 0.015*\"внутренний\" + 0.013*\"саратовский\" + 0.013*\"хозяин\" + 0.012*\"79\" + 0.012*\"ящерица\" + 0.011*\"туркестанский\" + 0.011*\"37\" + 0.010*\"ребёнок\"'),\n",
       " (194,\n",
       "  '0.200*\"труба\" + 0.105*\"милан\" + 0.076*\"потеря\" + 0.058*\"коэффициент\" + 0.044*\"да\" + 0.037*\"миланский\" + 0.036*\"анжи\" + 0.034*\"махачкала\" + 0.028*\"дневник\" + 0.027*\"фильтр\"'),\n",
       " (196,\n",
       "  '0.316*\"улица\" + 0.051*\"дом\" + 0.027*\"назвать\" + 0.025*\"проспект\" + 0.025*\"робот\" + 0.023*\"честь\" + 0.021*\"сторона\" + 0.021*\"днепропетровский\" + 0.019*\"2-й\" + 0.017*\"перемещаться\"'),\n",
       " (191,\n",
       "  '0.053*\"измерение\" + 0.053*\"термин\" + 0.034*\"угол\" + 0.031*\"способ\" + 0.031*\"понятие\" + 0.030*\"словарь\" + 0.029*\"фраза\" + 0.028*\"монтаж\" + 0.026*\"нос\" + 0.022*\"направление\"'),\n",
       " (187,\n",
       "  '0.059*\"экономический\" + 0.044*\"таблица\" + 0.041*\"географический\" + 0.034*\"рост\" + 0.031*\"условие\" + 0.031*\"дать\" + 0.031*\"определение\" + 0.028*\"показатель\" + 0.026*\"распределение\" + 0.025*\"анализ\"'),\n",
       " (9,\n",
       "  '0.033*\"марка\" + 0.010*\"тринидад\" + 0.010*\"выпуск\" + 0.009*\"изображение\" + 0.008*\"основа\" + 0.007*\"почтовый\" + 0.006*\"слово\" + 0.006*\"система\" + 0.006*\"обращение\" + 0.006*\"состоять\"'),\n",
       " (8,\n",
       "  '0.068*\"формула\" + 0.060*\"программный\" + 0.036*\"расширение\" + 0.030*\"конечный\" + 0.025*\"сопротивление\" + 0.023*\"расширить\" + 0.023*\"определяться\" + 0.022*\"том\" + 0.022*\"фашистский\" + 0.022*\"строй\"'),\n",
       " (7,\n",
       "  '0.033*\"университет\" + 0.012*\"наука\" + 0.011*\"образование\" + 0.011*\"научный\" + 0.010*\"школа\" + 0.009*\"исследование\" + 0.009*\"институт\" + 0.009*\"деятельность\" + 0.009*\"развитие\" + 0.007*\"учёный\"'),\n",
       " (6,\n",
       "  '0.043*\"язык\" + 0.033*\"бог\" + 0.016*\"форма\" + 0.012*\"народ\" + 0.010*\"русский\" + 0.009*\"современный\" + 0.009*\"существовать\" + 0.008*\"книга\" + 0.008*\"том\" + 0.008*\"древние\"'),\n",
       " (5,\n",
       "  '0.036*\"спорт\" + 0.033*\"чемпион\" + 0.033*\"2008\" + 0.024*\"европа\" + 0.021*\"категория\" + 0.019*\"олимпиада\" + 0.018*\"азербайджан\" + 0.018*\"золотой\" + 0.016*\"выступать\" + 0.016*\"спортивный\"'),\n",
       " (4,\n",
       "  '0.080*\"мост\" + 0.034*\"километр\" + 0.028*\"северный\" + 0.024*\"остров\" + 0.021*\"берег\" + 0.017*\"север\" + 0.017*\"местный\" + 0.017*\"пролив\" + 0.016*\"южный\" + 0.014*\"море\"'),\n",
       " (3,\n",
       "  '0.161*\"швеция\" + 0.132*\"кристиан\" + 0.108*\"нидерландский\" + 0.065*\"даниэль\" + 0.058*\"нквд\" + 0.050*\"33\" + 0.045*\"буд\" + 0.024*\"ударник\" + 0.022*\"адриан\" + 0.021*\"играть\"'),\n",
       " (2,\n",
       "  '0.052*\"гора\" + 0.029*\"национальный\" + 0.019*\"приток\" + 0.017*\"объект\" + 0.017*\"горный\" + 0.017*\"n\" + 0.015*\"парк\" + 0.015*\"альберт\" + 0.015*\"река\" + 0.015*\"бассейн\"'),\n",
       " (1,\n",
       "  '0.014*\"право\" + 0.011*\"состояние\" + 0.008*\"кола\" + 0.008*\"здоровье\" + 0.008*\"религиозный\" + 0.008*\"статья\" + 0.007*\"срок\" + 0.007*\"ребёнок\" + 0.006*\"образ\" + 0.006*\"преступление\"'),\n",
       " (0,\n",
       "  '0.037*\"победить\" + 0.031*\"бой\" + 0.019*\"чемпион\" + 0.016*\"проиграть\" + 0.013*\"брат\" + 0.013*\"таджикистан\" + 0.013*\"титул\" + 0.011*\"травма\" + 0.011*\"состояться\" + 0.011*\"поражение\"')]"
      ]
     },
     "execution_count": 77,
     "metadata": {},
     "output_type": "execute_result"
    }
   ],
   "source": [
    "lda = gensim.models.LdaModel(corpus, 200, alpha='asymmetric', id2word=dictinary, passes=5)\n",
    "lda.print_topics()"
   ]
  },
  {
   "cell_type": "code",
   "execution_count": 78,
   "id": "a3dd5a62",
   "metadata": {},
   "outputs": [
    {
     "data": {
      "text/plain": [
       "1185.2655077346408"
      ]
     },
     "execution_count": 78,
     "metadata": {},
     "output_type": "execute_result"
    }
   ],
   "source": [
    "np.exp2(-lda.log_perplexity(corpus[:1000]))"
   ]
  },
  {
   "cell_type": "code",
   "execution_count": 79,
   "id": "937aca99",
   "metadata": {},
   "outputs": [
    {
     "data": {
      "text/plain": [
       "0.5012267764863864"
      ]
     },
     "execution_count": 79,
     "metadata": {},
     "output_type": "execute_result"
    }
   ],
   "source": [
    "topics = []\n",
    "for topic_id, topic in lda.show_topics(num_topics=100, formatted=False):\n",
    "    topic = [word for word, _ in topic]\n",
    "    topics.append(topic)\n",
    "\n",
    "coherence_model_lda = gensim.models.CoherenceModel(topics=topics, \n",
    "                                                   texts=[text.split() for text in texts], \n",
    "                                                   dictionary=dictinary, coherence='c_v')\n",
    "\n",
    "coherence_model_lda.get_coherence()"
   ]
  },
  {
   "cell_type": "code",
   "execution_count": null,
   "id": "a6f53e73",
   "metadata": {},
   "outputs": [],
   "source": []
  },
  {
   "cell_type": "code",
   "execution_count": 89,
   "id": "d28f5a9b",
   "metadata": {},
   "outputs": [
    {
     "data": {
      "text/plain": [
       "[(82,\n",
       "  '0.127*\"сша\" + 0.084*\"клетка\" + 0.054*\"кинг\" + 0.041*\"американский\" + 0.037*\"далее\" + 0.033*\"преступление\" + 0.030*\"фрэнсис\" + 0.026*\"белок\" + 0.025*\"условный\" + 0.025*\"дэвид\"'),\n",
       " (47,\n",
       "  '0.099*\"десант\" + 0.067*\"ferrari\" + 0.048*\"огонь\" + 0.039*\"высадка\" + 0.038*\"артиллерийский\" + 0.037*\"батарея\" + 0.033*\"2-й\" + 0.029*\"1-й\" + 0.027*\"артиллерия\" + 0.021*\"жак\"'),\n",
       " (61,\n",
       "  '0.047*\"белорусский\" + 0.044*\"степан\" + 0.040*\"кусок\" + 0.036*\"сержант\" + 0.035*\"i\" + 0.035*\"горьковский\" + 0.035*\"2-метр\" + 0.033*\"джек\" + 0.029*\"белоруссия\" + 0.028*\"1965\"'),\n",
       " (25,\n",
       "  '0.176*\"аэропорт\" + 0.058*\"латвийский\" + 0.051*\"латвия\" + 0.042*\"2005\" + 0.038*\"рига\" + 0.032*\"региональный\" + 0.029*\"вс\" + 0.028*\"регулярный\" + 0.023*\"обеспечивать\" + 0.021*\"тип\"'),\n",
       " (11,\n",
       "  '0.060*\"гонка\" + 0.056*\"формула\" + 0.047*\"карта\" + 0.030*\"команда\" + 0.028*\"круг\" + 0.027*\"победа\" + 0.023*\"гран-при\" + 0.019*\"подряд\" + 0.019*\"автомобиль\" + 0.019*\"пройти\"'),\n",
       " (54,\n",
       "  '0.045*\"фронт\" + 0.038*\"войско\" + 0.030*\"армия\" + 0.025*\"…\" + 0.024*\"противник\" + 0.024*\"наступление\" + 0.022*\"наш\" + 0.022*\"1-го\" + 0.022*\"овладеть\" + 0.021*\"корпус\"'),\n",
       " (89,\n",
       "  '0.110*\"бельгия\" + 0.048*\"виновный\" + 0.045*\"бельгийский\" + 0.042*\"прибрежный\" + 0.034*\"сон\" + 0.030*\"повторяться\" + 0.029*\"визит\" + 0.027*\"летучий\" + 0.026*\"паровой\" + 0.023*\"питание\"'),\n",
       " (72,\n",
       "  '0.184*\"суд\" + 0.076*\"право\" + 0.055*\"судебный\" + 0.053*\"судья\" + 0.034*\"дело\" + 0.032*\"верховный\" + 0.029*\"труба\" + 0.026*\"палата\" + 0.019*\"штат\" + 0.016*\"решение\"'),\n",
       " (35,\n",
       "  '0.047*\"автомобиль\" + 0.044*\"подвеска\" + 0.024*\"колесо\" + 0.021*\"задний\" + 0.017*\"передний\" + 0.015*\"поперечный\" + 0.014*\"поворот\" + 0.011*\"скорость\" + 0.011*\"ося\" + 0.010*\"элемент\"'),\n",
       " (87,\n",
       "  '0.101*\"турнир\" + 0.041*\"финал\" + 0.039*\"чемпионат\" + 0.031*\"открытый\" + 0.027*\"разряд\" + 0.023*\"раунд\" + 0.022*\"пара\" + 0.022*\"сезон\" + 0.022*\"мир\" + 0.020*\"полуфинал\"'),\n",
       " (13,\n",
       "  '0.017*\"серия\" + 0.017*\"доктор\" + 0.013*\"чтобы\" + 0.011*\"герой\" + 0.011*\"персонаж\" + 0.009*\"эпизод\" + 0.009*\"чёрный\" + 0.008*\"кто\" + 0.007*\"говорить\" + 0.007*\"сериал\"'),\n",
       " (74,\n",
       "  '0.018*\"марка\" + 0.010*\"использовать\" + 0.010*\"выпуск\" + 0.010*\"использоваться\" + 0.009*\"система\" + 0.008*\"сторона\" + 0.007*\"размер\" + 0.007*\"тип\" + 0.006*\"без\" + 0.006*\"поверхность\"'),\n",
       " (44,\n",
       "  '0.013*\"дом\" + 0.012*\"школа\" + 0.009*\"музей\" + 0.008*\"здание\" + 0.008*\"русский\" + 0.007*\"памятник\" + 0.007*\"земля\" + 0.007*\"церковь\" + 0.007*\"построить\" + 0.006*\"сель\"'),\n",
       " (43,\n",
       "  '0.024*\"я\" + 0.010*\"жизнь\" + 0.009*\"…\" + 0.008*\"сын\" + 0.008*\"чтобы\" + 0.008*\"слово\" + 0.007*\"дом\" + 0.007*\"жена\" + 0.007*\"говорить\" + 0.007*\"отец\"'),\n",
       " (34,\n",
       "  '0.009*\"право\" + 0.008*\"против\" + 0.008*\"организация\" + 0.007*\"отношение\" + 0.007*\"дело\" + 0.007*\"решение\" + 0.006*\"государство\" + 0.006*\"закон\" + 0.006*\"вопрос\" + 0.005*\"заявить\"'),\n",
       " (75,\n",
       "  '0.016*\"бог\" + 0.012*\"битва\" + 0.009*\"царь\" + 0.009*\"канадский\" + 0.008*\"кит\" + 0.007*\"земля\" + 0.006*\"гуго\" + 0.006*\"около\" + 0.006*\"воевода\" + 0.006*\"правитель\"'),\n",
       " (4,\n",
       "  '0.031*\"река\" + 0.030*\"километр\" + 0.025*\"озеро\" + 0.016*\"берег\" + 0.016*\"северный\" + 0.015*\"около\" + 0.014*\"крупный\" + 0.013*\"гора\" + 0.011*\"север\" + 0.011*\"высота\"'),\n",
       " (56,\n",
       "  '0.011*\"можно\" + 0.011*\"если\" + 0.011*\"например\" + 0.010*\"форма\" + 0.009*\"уровень\" + 0.008*\"использовать\" + 0.008*\"случай\" + 0.007*\"образ\" + 0.007*\"есть\" + 0.007*\"каждый\"'),\n",
       " (80,\n",
       "  '0.038*\"университет\" + 0.018*\"институт\" + 0.017*\"наука\" + 0.013*\"академия\" + 0.012*\"член\" + 0.011*\"факультет\" + 0.011*\"профессор\" + 0.010*\"научный\" + 0.010*\"окончить\" + 0.008*\"образование\"'),\n",
       " (24,\n",
       "  '0.013*\"наш\" + 0.009*\"император\" + 0.008*\"народ\" + 0.007*\"источник\" + 0.007*\"римский\" + 0.007*\"согласно\" + 0.007*\"э\" + 0.006*\"период\" + 0.006*\"называть\" + 0.006*\"империя\"')]"
      ]
     },
     "execution_count": 89,
     "metadata": {},
     "output_type": "execute_result"
    }
   ],
   "source": [
    "lda = gensim.models.LdaModel(corpus, 100, alpha='auto', eta='auto', id2word=dictinary, passes=10)\n",
    "lda.print_topics()"
   ]
  },
  {
   "cell_type": "code",
   "execution_count": 90,
   "id": "db171375",
   "metadata": {},
   "outputs": [
    {
     "data": {
      "text/plain": [
       "605.5023215628206"
      ]
     },
     "execution_count": 90,
     "metadata": {},
     "output_type": "execute_result"
    }
   ],
   "source": [
    "np.exp2(-lda.log_perplexity(corpus[:1000]))"
   ]
  },
  {
   "cell_type": "code",
   "execution_count": 91,
   "id": "45798540",
   "metadata": {},
   "outputs": [
    {
     "data": {
      "text/plain": [
       "0.5533050154510811"
      ]
     },
     "execution_count": 91,
     "metadata": {},
     "output_type": "execute_result"
    }
   ],
   "source": [
    "topics = []\n",
    "for topic_id, topic in lda.show_topics(num_topics=100, formatted=False):\n",
    "    topic = [word for word, _ in topic]\n",
    "    topics.append(topic)\n",
    "\n",
    "coherence_model_lda = gensim.models.CoherenceModel(topics=topics, \n",
    "                                                   texts=[text.split() for text in texts], \n",
    "                                                   dictionary=dictinary, coherence='c_v')\n",
    "\n",
    "coherence_model_lda.get_coherence()"
   ]
  },
  {
   "cell_type": "code",
   "execution_count": null,
   "id": "46c10d14",
   "metadata": {},
   "outputs": [],
   "source": []
  },
  {
   "cell_type": "code",
   "execution_count": 92,
   "id": "d2f57bfb",
   "metadata": {},
   "outputs": [
    {
     "data": {
      "text/plain": [
       "[(395,\n",
       "  '0.098*\"пол\" + 0.077*\"петров\" + 0.066*\"двигаться\" + 0.055*\"арсенал\" + 0.054*\"быстрый\" + 0.052*\"защитник\" + 0.051*\"вилла\" + 0.039*\"интересный\" + 0.037*\"депрессия\" + 0.033*\"горячее\"'),\n",
       " (398,\n",
       "  '0.040*\"наступление\" + 0.038*\"овладеть\" + 0.033*\"наш\" + 0.032*\"километр\" + 0.025*\"занять\" + 0.020*\"река\" + 0.019*\"направление\" + 0.019*\"украинский\" + 0.017*\"бой\" + 0.016*\"оборона\"'),\n",
       " (386,\n",
       "  '0.080*\"западный\" + 0.056*\"бухта\" + 0.053*\"me\" + 0.049*\"мыс\" + 0.043*\"швеция\" + 0.041*\"1940\" + 0.036*\"архипелаг\" + 0.034*\"110\" + 0.031*\"карта\" + 0.030*\"41\"'),\n",
       " (393,\n",
       "  '0.171*\"компания\" + 0.024*\"частное\" + 0.023*\"крупный\" + 0.022*\"сеть\" + 0.018*\"бизнес\" + 0.018*\"реализовать\" + 0.017*\"запустить\" + 0.016*\"сотрудник\" + 0.016*\"специализировать\" + 0.014*\"рынок\"'),\n",
       " (384,\n",
       "  '0.352*\"1954\" + 0.122*\"1910\" + 0.090*\"бакалавр\" + 0.068*\"иркутский\" + 0.040*\"никола́\" + 0.037*\"поступление\" + 0.036*\"освещать\" + 0.033*\"иллинойс\" + 0.033*\"стипендия\" + 0.033*\"рецензия\"'),\n",
       " (396,\n",
       "  '0.217*\"смит\" + 0.099*\"появиться\" + 0.073*\"серьёзно\" + 0.057*\"слух\" + 0.055*\"сми\" + 0.040*\"знакомство\" + 0.037*\"интервью\" + 0.035*\"телевидение\" + 0.031*\"играть\" + 0.027*\"роль\"'),\n",
       " (382,\n",
       "  '0.137*\"день\" + 0.054*\"праздник\" + 0.040*\"традиция\" + 0.028*\"отмечаться\" + 0.028*\"ежегодно\" + 0.027*\"проводиться\" + 0.023*\"слово\" + 0.020*\"начинаться\" + 0.019*\"ведомство\" + 0.018*\"буква\"'),\n",
       " (380,\n",
       "  '0.228*\"de\" + 0.133*\"la\" + 0.102*\"рен\" + 0.087*\"эмиграция\" + 0.076*\"кой\" + 0.073*\"костюм\" + 0.066*\"франция\" + 0.055*\"петропавловский\" + 0.039*\"макс\" + 0.020*\"внести\"'),\n",
       " (378,\n",
       "  '0.086*\"правительство\" + 0.034*\"управление\" + 0.029*\"формирование\" + 0.028*\"кабинет\" + 0.025*\"действующий\" + 0.023*\"министр\" + 0.019*\"состоять\" + 0.018*\"первое\" + 0.016*\"мера\" + 0.015*\"основа\"'),\n",
       " (377,\n",
       "  '0.428*\"роберт\" + 0.169*\"шрифт\" + 0.069*\"вырезать\" + 0.066*\"комплект\" + 0.042*\"совершенство\" + 0.038*\"поздний\" + 0.032*\"лить\" + 0.018*\"пребывание\" + 0.013*\"чем\" + 0.009*\"венеция\"'),\n",
       " (9,\n",
       "  '0.029*\"мнение\" + 0.014*\"лишь\" + 0.013*\"хотя\" + 0.013*\"даже\" + 0.013*\"называть\" + 0.013*\"сам\" + 0.013*\"утверждать\" + 0.013*\"слово\" + 0.012*\"сторона\" + 0.012*\"тем\"'),\n",
       " (8,\n",
       "  '0.116*\"материал\" + 0.054*\"смертный\" + 0.051*\"посев\" + 0.043*\"жестокий\" + 0.042*\"специальный\" + 0.040*\"казнь\" + 0.039*\"весёлый\" + 0.034*\"приговорить\" + 0.030*\"проникать\" + 0.030*\"джорджия\"'),\n",
       " (7,\n",
       "  '0.022*\"палец\" + 0.022*\"зрение\" + 0.021*\"поэтому\" + 0.019*\"дать\" + 0.019*\"грязь\" + 0.016*\"стремиться\" + 0.016*\"заметно\" + 0.014*\"личность\" + 0.013*\"холодный\" + 0.011*\"называть\"'),\n",
       " (6,\n",
       "  '0.092*\"2015\" + 0.092*\"2016\" + 0.085*\"2017\" + 0.071*\"состояться\" + 0.068*\"2018\" + 0.064*\"ноябрь\" + 0.051*\"официальный\" + 0.051*\"2014\" + 0.024*\"2009\" + 0.022*\"2013\"'),\n",
       " (5,\n",
       "  '0.091*\"герб\" + 0.046*\"щит\" + 0.034*\"золотой\" + 0.032*\"символ\" + 0.027*\"утвердить\" + 0.023*\"муниципальный\" + 0.021*\"цвета\" + 0.020*\"символизировать\" + 0.019*\"пол\" + 0.019*\"синий\"'),\n",
       " (4,\n",
       "  '0.076*\"уступать\" + 0.059*\"гребля\" + 0.047*\"академический\" + 0.046*\"67\" + 0.042*\"завершать\" + 0.039*\"борьба\" + 0.037*\"1912\" + 0.034*\"заезд\" + 0.028*\"стокгольм\" + 0.025*\"контрольный\"'),\n",
       " (3,\n",
       "  '0.147*\"команда\" + 0.071*\"лига\" + 0.041*\"играть\" + 0.035*\"футбол\" + 0.035*\"сезон\" + 0.032*\"дивизион\" + 0.031*\"нил\" + 0.030*\"выступать\" + 0.027*\"кубок\" + 0.025*\"клуб\"'),\n",
       " (2,\n",
       "  '0.091*\"1956\" + 0.041*\"открыться\" + 0.037*\"кафе\" + 0.033*\"серебряный\" + 0.029*\"мельбурн\" + 0.027*\"отель\" + 0.026*\"чуть\" + 0.025*\"ресторан\" + 0.024*\"украинец\" + 0.024*\"земский\"'),\n",
       " (1,\n",
       "  '0.085*\"боливия\" + 0.075*\"малое\" + 0.058*\"диалект\" + 0.051*\"125\" + 0.049*\"шевченковский\" + 0.045*\"звук\" + 0.043*\"гимн\" + 0.042*\"ст\" + 0.038*\"58\" + 0.035*\"согласный\"'),\n",
       " (0,\n",
       "  '0.013*\"значительный\" + 0.011*\"плато\" + 0.010*\"существовать\" + 0.009*\"…\" + 0.009*\"xix\" + 0.009*\"кроме\" + 0.007*\"переселение\" + 0.007*\"ii\" + 0.007*\"постепенно\" + 0.007*\"далее\"')]"
      ]
     },
     "execution_count": 92,
     "metadata": {},
     "output_type": "execute_result"
    }
   ],
   "source": [
    "lda = gensim.models.LdaModel(corpus, 400, alpha='asymmetric', id2word=dictinary, passes=10)\n",
    "lda.print_topics()"
   ]
  },
  {
   "cell_type": "code",
   "execution_count": 93,
   "id": "73d93d81",
   "metadata": {},
   "outputs": [
    {
     "data": {
      "text/plain": [
       "1028.0496404113687"
      ]
     },
     "execution_count": 93,
     "metadata": {},
     "output_type": "execute_result"
    }
   ],
   "source": [
    "np.exp2(-lda.log_perplexity(corpus[:1000]))"
   ]
  },
  {
   "cell_type": "code",
   "execution_count": 94,
   "id": "6eea7e24",
   "metadata": {},
   "outputs": [
    {
     "data": {
      "text/plain": [
       "0.5071833375538879"
      ]
     },
     "execution_count": 94,
     "metadata": {},
     "output_type": "execute_result"
    }
   ],
   "source": [
    "topics = []\n",
    "for topic_id, topic in lda.show_topics(num_topics=100, formatted=False):\n",
    "    topic = [word for word, _ in topic]\n",
    "    topics.append(topic)\n",
    "\n",
    "coherence_model_lda = gensim.models.CoherenceModel(topics=topics, \n",
    "                                                   texts=[text.split() for text in texts], \n",
    "                                                   dictionary=dictinary, coherence='c_v')\n",
    "\n",
    "coherence_model_lda.get_coherence()"
   ]
  },
  {
   "cell_type": "code",
   "execution_count": null,
   "id": "017c2d51",
   "metadata": {},
   "outputs": [],
   "source": []
  },
  {
   "cell_type": "code",
   "execution_count": 95,
   "id": "75431044",
   "metadata": {},
   "outputs": [
    {
     "data": {
      "text/plain": [
       "[(775,\n",
       "  '0.002*\"остров\" + 0.002*\"залив\" + 0.001*\"уайт\" + 0.001*\"шон\" + 0.001*\"результат\" + 0.001*\"здесь\" + 0.001*\"река\" + 0.001*\"акватория\" + 0.001*\"пролив\" + 0.001*\"польский\"'),\n",
       " (768,\n",
       "  '0.165*\"отдельный\" + 0.116*\"целое\" + 0.112*\"сохранение\" + 0.105*\"поток\" + 0.071*\"причём\" + 0.051*\"удержать\" + 0.046*\"ущерб\" + 0.040*\"контекст\" + 0.029*\"видно\" + 0.026*\"кроме\"'),\n",
       " (776,\n",
       "  '0.097*\"наука\" + 0.061*\"профессор\" + 0.060*\"университет\" + 0.049*\"институт\" + 0.039*\"факультет\" + 0.038*\"научный\" + 0.036*\"доктор\" + 0.031*\"кафедра\" + 0.022*\"диссертация\" + 0.022*\"окончить\"'),\n",
       " (762,\n",
       "  '0.063*\"электронный\" + 0.055*\"николай\" + 0.038*\"физик\" + 0.036*\"физический\" + 0.035*\"разработать\" + 0.030*\"совместно\" + 0.027*\"внести\" + 0.026*\"исследование\" + 0.025*\"метод\" + 0.024*\"частица\"'),\n",
       " (764,\n",
       "  '0.441*\"плечо\" + 0.177*\"голов\" + 0.150*\"вперёд\" + 0.071*\"вверх\" + 0.010*\"выше\" + 0.007*\"вертикальный\" + 0.002*\"подвеска\" + 0.001*\"сторона\" + 0.001*\"оркестр\" + 0.001*\"инструмент\"'),\n",
       " (785,\n",
       "  '0.531*\"ленин\" + 0.217*\"ул\" + 0.064*\"оккупировать\" + 0.044*\"пгт\" + 0.042*\"380\" + 0.036*\"посёлок\" + 0.011*\"р-наш\" + 0.009*\"утвердить\" + 0.003*\"дальнейший\" + 0.001*\"здесь\"'),\n",
       " (777,\n",
       "  '0.736*\"узбекистан\" + 0.069*\"заседание\" + 0.030*\"продольный\" + 0.008*\"политический\" + 0.007*\"совет\" + 0.003*\"партия\" + 0.001*\"движение\" + 0.000*\"съезд\" + 0.000*\"поперечный\" + 0.000*\"республика\"'),\n",
       " (783,\n",
       "  '0.041*\"шина\" + 0.027*\"автомобиль\" + 0.022*\"шасси\" + 0.018*\"колесо\" + 0.016*\"сила\" + 0.016*\"подвеска\" + 0.015*\"задний\" + 0.015*\"поворот\" + 0.014*\"либо\" + 0.013*\"крепление\"'),\n",
       " (765,\n",
       "  '0.003*\"посёлок\" + 0.002*\"животное\" + 0.001*\"вино\" + 0.001*\"сельский\" + 0.001*\"километр\" + 0.001*\"школа\" + 0.001*\"сельсовет\" + 0.001*\"эксперимент\" + 0.001*\"улица\" + 0.001*\"задача\"'),\n",
       " (792,\n",
       "  '0.002*\"вражеский\" + 0.002*\"командный\" + 0.002*\"самолёт\" + 0.002*\"день\" + 0.002*\"лис\" + 0.001*\"остров\" + 0.001*\"титул\" + 0.001*\"орден\" + 0.001*\"корабль\" + 0.001*\"данные\"'),\n",
       " (9,\n",
       "  '0.074*\"журнал\" + 0.069*\"елена\" + 0.053*\"теннис\" + 0.051*\"сотня\" + 0.044*\"семь\" + 0.042*\"мак\" + 0.031*\"привлечь\" + 0.025*\"прежде\" + 0.025*\"теннисистка\" + 0.020*\"юлий\"'),\n",
       " (8,\n",
       "  '0.347*\"2010\" + 0.099*\"пекин\" + 0.056*\"стадия\" + 0.034*\"обыграть\" + 0.033*\"повлиять\" + 0.032*\"16\" + 0.027*\"счёт\" + 0.021*\"open\" + 0.019*\"телевизионный\" + 0.018*\"китай\"'),\n",
       " (7,\n",
       "  '0.194*\"номер\" + 0.035*\"культовый\" + 0.035*\"закрытие\" + 0.030*\"счёт\" + 0.030*\"иконостас\" + 0.027*\"танцовщица\" + 0.018*\"оставаться\" + 0.016*\"прямоугольный\" + 0.016*\"сейчас\" + 0.016*\"приходиться\"'),\n",
       " (6,\n",
       "  '0.031*\"боливия\" + 0.017*\"чем\" + 0.016*\"среднее\" + 0.016*\"европа\" + 0.015*\"шестнадцать\" + 0.015*\"большинство\" + 0.014*\"зона\" + 0.013*\"зрение\" + 0.013*\"способствовать\" + 0.012*\"класс\"'),\n",
       " (5,\n",
       "  '0.054*\"выражать\" + 0.047*\"критиковать\" + 0.038*\"юар\" + 0.038*\"доверие\" + 0.038*\"простить\" + 0.032*\"американский\" + 0.031*\"прославиться\" + 0.028*\"посадить\" + 0.027*\"придерживаться\" + 0.026*\"нельсон\"'),\n",
       " (4,\n",
       "  '0.064*\"съезд\" + 0.041*\"комитет\" + 0.029*\"национальный\" + 0.024*\"финансы\" + 0.016*\"народный\" + 0.016*\"экономический\" + 0.015*\"член\" + 0.014*\"организация\" + 0.014*\"республика\" + 0.013*\"президент\"'),\n",
       " (3,\n",
       "  '0.342*\"свидетель\" + 0.095*\"трое\" + 0.050*\"лицей\" + 0.036*\"жертва\" + 0.028*\"толпа\" + 0.027*\"двое\" + 0.025*\"военный\" + 0.021*\"убитый\" + 0.021*\"воскресение\" + 0.018*\"бегство\"'),\n",
       " (2,\n",
       "  '0.128*\"вместо\" + 0.121*\"вновь\" + 0.088*\"управляемый\" + 0.050*\"статус\" + 0.047*\"опять\" + 0.036*\"распад\" + 0.034*\"военный\" + 0.028*\"завоевание\" + 0.026*\"разделить\" + 0.022*\"1992\"'),\n",
       " (1,\n",
       "  '0.477*\"ул\" + 0.096*\"недалеко\" + 0.072*\"белок\" + 0.054*\"54\" + 0.043*\"др\" + 0.038*\"дуб\" + 0.031*\"континентальный\" + 0.017*\"вблизи\" + 0.015*\"нет\" + 0.011*\"местный\"'),\n",
       " (0,\n",
       "  '0.101*\"фамилия\" + 0.085*\"казанский\" + 0.059*\"буква\" + 0.051*\"чело\" + 0.047*\"татарский\" + 0.037*\"граничить\" + 0.032*\"юг\" + 0.031*\"украинец\" + 0.030*\"спортсменка\" + 0.028*\"русский\"')]"
      ]
     },
     "execution_count": 95,
     "metadata": {},
     "output_type": "execute_result"
    }
   ],
   "source": [
    "lda = gensim.models.LdaModel(corpus, 800, alpha='asymmetric', id2word=dictinary, passes=3)\n",
    "lda.print_topics()"
   ]
  },
  {
   "cell_type": "code",
   "execution_count": 96,
   "id": "8894d16a",
   "metadata": {},
   "outputs": [
    {
     "data": {
      "text/plain": [
       "25938.434324042108"
      ]
     },
     "execution_count": 96,
     "metadata": {},
     "output_type": "execute_result"
    }
   ],
   "source": [
    "np.exp2(-lda.log_perplexity(corpus[:1000]))"
   ]
  },
  {
   "cell_type": "code",
   "execution_count": null,
   "id": "03804598",
   "metadata": {},
   "outputs": [],
   "source": [
    "topics = []\n",
    "for topic_id, topic in lda.show_topics(num_topics=100, formatted=False):\n",
    "    topic = [word for word, _ in topic]\n",
    "    topics.append(topic)\n",
    "\n",
    "coherence_model_lda = gensim.models.CoherenceModel(topics=topics, \n",
    "                                                   texts=[text.split() for text in texts], \n",
    "                                                   dictionary=dictinary, coherence='c_v')\n",
    "\n",
    "coherence_model_lda.get_coherence()"
   ]
  },
  {
   "cell_type": "code",
   "execution_count": null,
   "id": "20c5c2cc",
   "metadata": {},
   "outputs": [],
   "source": []
  }
 ],
 "metadata": {
  "kernelspec": {
   "display_name": "Python 3 (ipykernel)",
   "language": "python",
   "name": "python3"
  },
  "language_info": {
   "codemirror_mode": {
    "name": "ipython",
    "version": 3
   },
   "file_extension": ".py",
   "mimetype": "text/x-python",
   "name": "python",
   "nbconvert_exporter": "python",
   "pygments_lexer": "ipython3",
   "version": "3.7.5rc1"
  }
 },
 "nbformat": 4,
 "nbformat_minor": 5
}
